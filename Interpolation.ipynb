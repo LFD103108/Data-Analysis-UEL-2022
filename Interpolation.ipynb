{
  "nbformat": 4,
  "nbformat_minor": 0,
  "metadata": {
    "colab": {
      "name": "Interpolation.ipynb",
      "provenance": [],
      "toc_visible": true
    },
    "kernelspec": {
      "name": "python3",
      "display_name": "Python 3"
    },
    "language_info": {
      "name": "python"
    }
  },
  "cells": [
    {
      "cell_type": "markdown",
      "source": [
        "## First and Second Assignment\n"
      ],
      "metadata": {
        "id": "DO800Rgul4mN"
      }
    },
    {
      "cell_type": "markdown",
      "source": [
        "\n",
        "First\n",
        "\n",
        "*   Generate an Interpolation Function;\n",
        "*   Interpolate a gaussian function and compare the error to real Gaussian data;\n",
        "*   Find the cumulative of the interpolated function;\n",
        "\n",
        "Second\n",
        "\n",
        "*   Generate a sampler using linear interpolation in the cumulative points;\n"
      ],
      "metadata": {
        "id": "b-MeMupQB6mz"
      }
    },
    {
      "cell_type": "code",
      "execution_count": null,
      "metadata": {
        "id": "afMepj-Zwrd2"
      },
      "outputs": [],
      "source": [
        "import numpy as np              #importing the libraries\n",
        "import scipy as scp\n",
        "import matplotlib.pyplot as plt\n",
        "import scipy.integrate as it"
      ]
    },
    {
      "cell_type": "markdown",
      "source": [
        "# Part 1: Interpolation"
      ],
      "metadata": {
        "id": "axgwofoSPiDJ"
      }
    },
    {
      "cell_type": "markdown",
      "source": [
        "First, let's define the function $\\hbox{gaussian}(x,\\mu,\\sigma)$, which for each $x_{i}$ in a linspace $x$ associates a number by the equation\n",
        "\n",
        "$$ \\hbox{gaussian}(x_{i}) = \\frac{1}{\\sqrt{2\\pi \\sigma^{2}}}e^{-\\frac{(x_{i}-\\mu)^2}{2\\sigma^2}}\\, .$$\n",
        "\n"
      ],
      "metadata": {
        "id": "0Mj818HVCo-H"
      }
    },
    {
      "cell_type": "code",
      "source": [
        "def gaussian(x,μ,σ): #gaussian function\n",
        "  return 1/(np.sqrt(2*np.pi*σ**2))*np.exp(-((x-μ)**2)/(2*σ**2))"
      ],
      "metadata": {
        "id": "dCTsNp37xGsl"
      },
      "execution_count": null,
      "outputs": []
    },
    {
      "cell_type": "markdown",
      "source": [
        "Let's se an example:"
      ],
      "metadata": {
        "id": "cYA53UDgDrud"
      }
    },
    {
      "cell_type": "code",
      "source": [
        "x = np.linspace(-8,8,1000) # domain of the gaussian\n",
        "y = gaussian(x,0,1)        # test of a gaussian function for μ=0, σ=0.1\n",
        "plt.plot(x,y)"
      ],
      "metadata": {
        "id": "s_xd8UPLcNnc",
        "colab": {
          "base_uri": "https://localhost:8080/",
          "height": 282
        },
        "outputId": "8f87f943-df45-4f8e-fd10-ded5cae305cb"
      },
      "execution_count": null,
      "outputs": [
        {
          "output_type": "execute_result",
          "data": {
            "text/plain": [
              "[<matplotlib.lines.Line2D at 0x7f72ba63e2d0>]"
            ]
          },
          "metadata": {},
          "execution_count": 86
        },
        {
          "output_type": "display_data",
          "data": {
            "text/plain": [
              "<Figure size 432x288 with 1 Axes>"
            ],
            "image/png": "[encoded data removed]"
          },
          "metadata": {
            "needs_background": "light"
          }
        }
      ]
    },
    {
      "cell_type": "markdown",
      "source": [
        "In the cells above, we associate a linspace $\\hbox{gaussian}(x,\\mu,\\sigma)$ to a $x$ linspace. Now, let's suppose we got another linspace $z$, and that we would like to calculate the values of $y$ on the curve $\\hbox{gaussian}(x,\\mu,\\sigma)$, already calculated. We can do that by defining an interpolation function, $\\hbox{interpolate}(z,y,x)$.\n",
        "\n",
        "The idea is as follows: suppose that, for each $x_{i}$,$x_{i+1} \\in x$, the function $y(x)$ varies slowly. Then, we can approximate the function for a line segment that passes through $(x_{i},y(x_{i}))$ and $(x_{i+1},y(x_{i+1}))$. Defining $y_{i}=y(x_{i})$, the coefficients $a_{i}$ and $b_{i}$ of such line can be calculate explicitly by\n",
        "\n",
        "$$ a_{i} = \\frac{(y_{i+1}-y_{i})}{(x_{i+1}-x_{i})}\\, ,$$\n",
        "$$ b_{i} = y_{i}-a_{i}x_{i}\\, ,$$\n",
        "\n",
        "where we used the line equation\n",
        "\n",
        "$$y(x) = ax+b\\, .$$\n",
        "\n",
        "The same procedure can be repeated for each $x_{i} \\in x$, which can be implemented using a **for** command."
      ],
      "metadata": {
        "id": "__PxNI4qD63N"
      }
    },
    {
      "cell_type": "code",
      "source": [
        "def interpolate(z,y,x): \n",
        "  p=[]              # Definition of the interpolation function. Here, z, y, x are linspaces, with z being the domaing of interpolation, and y(x) the curve that we want to interpolate.        \n",
        "  for j in range(np.size(x)-1):  \n",
        "    a = (y[j+1]-y[j])/(x[j+1]-x[j]) \n",
        "    b = y[j]-a*x[j] \n",
        "    p.append([a,b]) # The function is defined in two parts. The first calculates the coefficients of the lines that approximate the function in each interval.\n",
        "    \n",
        "  inter = []        # This second part uses the coefficients to project the values of z over the curve y(x) that we want to interpolate\n",
        "  for i in range(np.size(z)):   \n",
        "    for j in range(np.size(x)-1):\n",
        "      if x[j]<z[i] and z[i]<x[j+1]:\n",
        "        q = (p[j][0])*z[i]+(p[j][1])\n",
        "        inter.append(q)\n",
        "  return inter"
      ],
      "metadata": {
        "id": "R9ylEh5XlTUB"
      },
      "execution_count": null,
      "outputs": []
    },
    {
      "cell_type": "markdown",
      "source": [
        "Let's do an example. We shall interpolate the function $y(x)=\\hbox{gauss}(x,0,1)$ (defined above) over the interval $(-3,3)$ with $150$ points. Note that the precision of the interpolation depends on the number of points taken over the interpolation interval."
      ],
      "metadata": {
        "id": "WNZvYIqWHbub"
      }
    },
    {
      "cell_type": "code",
      "source": [
        "z = np.linspace(-3,3,150)   # This the new interval that we want to interpolate the gaussian\n",
        "q = interpolate(z,y,x)      # Here x is the domain of the gaussian y(x), defined above.\n",
        "\n",
        "plt.plot(x,y, color='blue') #Original gaussian, in blue\n",
        "plt.plot(z,q, color='red')  # Plot of the interpolated gaussian and the original gaussian"
      ],
      "metadata": {
        "colab": {
          "base_uri": "https://localhost:8080/",
          "height": 282
        },
        "id": "sgkLCMeLlodB",
        "outputId": "e33addc0-a243-424c-84ac-d2c442ed3673"
      },
      "execution_count": null,
      "outputs": [
        {
          "output_type": "execute_result",
          "data": {
            "text/plain": [
              "[<matplotlib.lines.Line2D at 0x7f72ba630810>]"
            ]
          },
          "metadata": {},
          "execution_count": 88
        },
        {
          "output_type": "display_data",
          "data": {
            "text/plain": [
              "<Figure size 432x288 with 1 Axes>"
            ],
            "image/png": "[encoded data removed]"
          },
          "metadata": {
            "needs_background": "light"
          }
        }
      ]
    },
    {
      "cell_type": "markdown",
      "source": [
        "The same can be done for other curves. Below is an example of interpolation of a $\\hbox{cos}(x)$ function. Note that the domain of interpolation should be contained in the domain of the function."
      ],
      "metadata": {
        "id": "I84DD6S5Io8-"
      }
    },
    {
      "cell_type": "code",
      "source": [
        "g = np.linspace(-3,3,100)           # Interpolation interval\n",
        "h = interpolate(g,np.cos(x),x) \n",
        "\n",
        "plt.plot(x,np.cos(x), color='blue') # cos(x) function, in blue\n",
        "plt.plot(g,h, color='red')          # Interpolated cos(x) function, in red"
      ],
      "metadata": {
        "colab": {
          "base_uri": "https://localhost:8080/",
          "height": 282
        },
        "id": "O2vvZMq40_wx",
        "outputId": "a49c2cf6-14fe-45ac-a66c-a6bd1bd81fb3"
      },
      "execution_count": null,
      "outputs": [
        {
          "output_type": "execute_result",
          "data": {
            "text/plain": [
              "[<matplotlib.lines.Line2D at 0x7f72ba5b5250>]"
            ]
          },
          "metadata": {},
          "execution_count": 89
        },
        {
          "output_type": "display_data",
          "data": {
            "text/plain": [
              "<Figure size 432x288 with 1 Axes>"
            ],
            "image/png": "[encoded data removed]"
          },
          "metadata": {
            "needs_background": "light"
          }
        }
      ]
    },
    {
      "cell_type": "markdown",
      "source": [
        "# Part 2: Sampler of a gaussian distribution"
      ],
      "metadata": {
        "id": "oM1d_aOYPn1h"
      }
    },
    {
      "cell_type": "markdown",
      "source": [
        "To creat a sampler of a gaussian distribution, we will use the inverse cumulative distribution technique. First, we will create the $\\hbox{integral}(z,y,x)$ function, which integrates the function $y(x)$ in the interval $z$. \n",
        "\n",
        "Suppose the interval is $z = (a,b)$, then the integral of $y(x)$ is defined as a Riemann sum\n",
        "\n",
        "$$\\int_{a}^{b}y(x)dx = \\lim_{n\\rightarrow \\infty } \\sum_{i=0}^{n}y_{i}\\Delta x_{i} \\, , $$\n",
        "\n",
        "where\n",
        "\n",
        "$$ \\Delta x_{i} = \\frac{(b-a)}{n}\\ .$$\n",
        "\n",
        "The sum can be done using a **for** command for each $i$. To implement this definition of integral, we shall first interpolate the function $y(x)$ over the interval $z$, and then make the Riemann sum."
      ],
      "metadata": {
        "id": "uPV7F9DhO759"
      }
    },
    {
      "cell_type": "code",
      "source": [
        "def integral(z,y,x):\n",
        "  p = interpolate(z,y,x) # Here we interpolate y(x) over z\n",
        "  pc = np.size(p)\n",
        "  d = (z[pc-1]-z[0])/pc  # Here, z[0] is the first element of the interval z, which takes the role of a above. \n",
        "  area = []              # Similarly, z[pc-1] takes the role of b\n",
        "  q = 0\n",
        "  for i in range(pc):    # In this FOR command, we sum over each element of z and add the values to a list \"area\"\n",
        "    q += p[i]*d\n",
        "    area.append(q)\n",
        "  return area            # The function returns a linspace which stores the value of the integral at each point"
      ],
      "metadata": {
        "id": "eFq4ijC88AD4"
      },
      "execution_count": null,
      "outputs": []
    },
    {
      "cell_type": "markdown",
      "source": [
        "Below is the integration an exponencial function $e^x$ over the interval $(0,8)$."
      ],
      "metadata": {
        "id": "t-3GCBhqa7OR"
      }
    },
    {
      "cell_type": "code",
      "source": [
        "s1 = np.linspace(0,8,1000)       # Integration interval of the function s3(s2)\n",
        "s2 = np.linspace(0,10,500)       # Domain of the function to be integrated\n",
        "s3 = np.exp(s2)                  # Definition of the  exponential\n",
        "s4 = integral(s1,s3,s2)          # Aplication of the integral function\n",
        "\n",
        "plt.plot(s2,s3)                  # Plot of the exponential\n",
        "plt.plot(s1[0:np.size(s1)-1],s4) # Plot of the integral. Since the original function was exponential, they coincide"
      ],
      "metadata": {
        "id": "PGnLFd0bCxtI",
        "colab": {
          "base_uri": "https://localhost:8080/",
          "height": 282
        },
        "outputId": "6d4ba656-eb09-4f00-a76b-4f8245e41046"
      },
      "execution_count": null,
      "outputs": [
        {
          "output_type": "execute_result",
          "data": {
            "text/plain": [
              "[<matplotlib.lines.Line2D at 0x7f72ba5dd1d0>]"
            ]
          },
          "metadata": {},
          "execution_count": 91
        },
        {
          "output_type": "display_data",
          "data": {
            "text/plain": [
              "<Figure size 432x288 with 1 Axes>"
            ],
            "image/png": "[encoded data removed]"
          },
          "metadata": {
            "needs_background": "light"
          }
        }
      ]
    },
    {
      "cell_type": "markdown",
      "source": [
        "Now we are in position to define the cumulative distribution of the gaussian function. It's name is error function $erf(x)$. Explicitly:\n",
        "\n",
        "$$\\hbox{erf}(z,\\mu,\\sigma) = \\int_{-\\infty}^{z}\\hbox{gauss}(x,\\mu,\\sigma)dx \\, .$$\n",
        "\n",
        "Of course, we cannot integrate numericaly from $-\\infty$, so we take a value for each the value of the gaussian is very small. In the cell below, we will define the error function for an arbitrary interval, but in practice we will demand this condition on its domain."
      ],
      "metadata": {
        "id": "f82Phum0eXOi"
      }
    },
    {
      "cell_type": "code",
      "source": [
        "def erf(z,μ,σ):                         # Definition of the error function\n",
        "  return integral(z,gauss(2*z,μ,σ),2*z) # Note the value 2 in the gaussian and its domain. We do this to ensure that the integration domain is contained in the domain of the gaussian, and also to ensure that it's value is close to zero"
      ],
      "metadata": {
        "id": "63hjeXrASORJ"
      },
      "execution_count": null,
      "outputs": []
    },
    {
      "cell_type": "markdown",
      "source": [
        "Let's do an example of aplication of the $\\hbox{erf}(x,\\mu,\\sigma)$ function."
      ],
      "metadata": {
        "id": "T-rDty-zgxPK"
      }
    },
    {
      "cell_type": "code",
      "source": [
        "w= np.linspace(-5,5,100) # Domain of the error function. Note that gauss(-5,0,0.5) is very close to 0\n",
        "error = erf(w,0,0.5)     # Application of the erf(z, μ, σ) function\n",
        "plt.plot(w,erf(w,0,0.5)) "
      ],
      "metadata": {
        "colab": {
          "base_uri": "https://localhost:8080/",
          "height": 282
        },
        "id": "1cPThBCsVSuY",
        "outputId": "9dcb4428-a1f8-43c3-d37d-7c28f978de1a"
      },
      "execution_count": null,
      "outputs": [
        {
          "output_type": "execute_result",
          "data": {
            "text/plain": [
              "[<matplotlib.lines.Line2D at 0x7f72badb7290>]"
            ]
          },
          "metadata": {},
          "execution_count": 93
        },
        {
          "output_type": "display_data",
          "data": {
            "text/plain": [
              "<Figure size 432x288 with 1 Axes>"
            ],
            "image/png": "[encoded data removed]"
          },
          "metadata": {
            "needs_background": "light"
          }
        }
      ]
    },
    {
      "cell_type": "markdown",
      "source": [
        "Now it's time to create the sampler. The idea is the following:\n",
        "\n",
        "1. We begin with a list of random numbers between $0$ and $1$ generated by an uniform distribution;\n",
        "\n",
        "2. The image of $\\hbox{erf}(z,\\mu,\\sigma)$ is precisely $(0,1)$. We then invert the error \n",
        "associating for each value in $(0,1)$ to a point in the domain the error function. This can be done by reverse interpolation, which shall become clearer in the code;\n",
        "\n",
        "3. Now we have another set of random numbers, but with an interesting property: they now follow a gaussian distribution. We will show this by ploting its histogram and comparing it to the generated by a Numpy gaussian distribution;\n",
        "\n",
        "First, let's create uniform random number generator. In the cell below, we create the function **samples(n)**, which generates a set of $n$ random numbers between $0$ and $1$ using the Numpy choices command. "
      ],
      "metadata": {
        "id": "WNbrmgOqhVbE"
      }
    },
    {
      "cell_type": "code",
      "source": [
        "def sample(n):                  # Uniform random number generator between 0 and 1\n",
        "  rand = np.linspace(0,1,1000)  # Interval (0,1). We take a large number o numbers to guarantee that those are random\n",
        "  sample = []\n",
        "  for i in range(n):\n",
        "    u = np.random.choice(rand)\n",
        "    sample.append(u)\n",
        "  return sample\n",
        "\n",
        "print(sample(10))               # Example of a sample of 10 random numbers between 0 and 1"
      ],
      "metadata": {
        "id": "V2UwBw_HOg4i",
        "colab": {
          "base_uri": "https://localhost:8080/"
        },
        "outputId": "5047ae6a-a324-4b5c-c288-f269b0003ab5"
      },
      "execution_count": null,
      "outputs": [
        {
          "output_type": "stream",
          "name": "stdout",
          "text": [
            "[0.98998998998999, 0.9429429429429429, 0.05105105105105105, 0.8808808808808809, 0.5575575575575575, 0.04804804804804805, 0.21021021021021022, 0.16716716716716717, 0.934934934934935, 0.8638638638638638]\n"
          ]
        }
      ]
    },
    {
      "cell_type": "markdown",
      "source": [
        "Our next step is to invert the error function. First, let's do this graphically, we is in the cell below. Note that the domain of the inverse is $(0,1)$."
      ],
      "metadata": {
        "id": "FGOc9_zmjzoW"
      }
    },
    {
      "cell_type": "code",
      "source": [
        "w= np.linspace(-5,5,1000) \n",
        "error = erf(w,0,0.5)\n",
        "plt.plot(error,w)         # Here we plot w(error(w)), in reverse order"
      ],
      "metadata": {
        "colab": {
          "base_uri": "https://localhost:8080/",
          "height": 282
        },
        "id": "Tzbge-z5jPji",
        "outputId": "91ef1125-f0c8-4fa2-e835-366d5f955cae"
      },
      "execution_count": null,
      "outputs": [
        {
          "output_type": "execute_result",
          "data": {
            "text/plain": [
              "[<matplotlib.lines.Line2D at 0x7f72bbd2f850>]"
            ]
          },
          "metadata": {},
          "execution_count": 47
        },
        {
          "output_type": "display_data",
          "data": {
            "text/plain": [
              "<Figure size 432x288 with 1 Axes>"
            ],
            "image/png": "[encoded data removed]"
          },
          "metadata": {
            "needs_background": "light"
          }
        }
      ]
    },
    {
      "cell_type": "markdown",
      "source": [
        "To implement the inversion, we will first create a sample of $10000$ random numbers. Then we will interpolate $w(\\hbox{erf}(w,\\mu,\\sigma))$ over our random numbers. \n",
        "\n",
        "The final step is to plot a histogram of such interpolation. The result is a sample of random numbers with gaussian data."
      ],
      "metadata": {
        "id": "XPZSTltkkWU8"
      }
    },
    {
      "cell_type": "code",
      "source": [
        "oursample = sample(10000)               # Definition of our sample of 10000 random numbers\n",
        "dist = interpolate(oursample,w,error)   # Interpolation of our sample over w(erf(w, μ, σ)))\n",
        "\n",
        "plt.hist(dist)                          # Plot of the histogram                   "
      ],
      "metadata": {
        "colab": {
          "base_uri": "https://localhost:8080/",
          "height": 424
        },
        "id": "pRQHUiXZEl5Q",
        "outputId": "185e9b1f-403c-40af-d776-8f143e4d97c2"
      },
      "execution_count": null,
      "outputs": [
        {
          "output_type": "stream",
          "name": "stderr",
          "text": [
            "/usr/local/lib/python3.7/dist-packages/ipykernel_launcher.py:4: RuntimeWarning: divide by zero encountered in double_scalars\n",
            "  after removing the cwd from sys.path.\n"
          ]
        },
        {
          "output_type": "execute_result",
          "data": {
            "text/plain": [
              "(array([  77.,  454., 1386., 2461., 2765., 1788.,  753.,  169.,   16.,\n",
              "           9.]),\n",
              " array([-1.6222516 , -1.24824151, -0.87423141, -0.50022132, -0.12621122,\n",
              "         0.24779887,  0.62180897,  0.99581906,  1.36982916,  1.74383925,\n",
              "         2.11784935]),\n",
              " <a list of 10 Patch objects>)"
            ]
          },
          "metadata": {},
          "execution_count": 96
        },
        {
          "output_type": "display_data",
          "data": {
            "text/plain": [
              "<Figure size 432x288 with 1 Axes>"
            ],
            "image/png": "[encoded data removed]"
          },
          "metadata": {
            "needs_background": "light"
          }
        }
      ]
    },
    {
      "cell_type": "markdown",
      "source": [
        "Now, let's compare our result with a sample created from a gaussian distribution using the Numpy library:"
      ],
      "metadata": {
        "id": "1Gbw4DCucO0_"
      }
    },
    {
      "cell_type": "code",
      "source": [
        "normal = []                              # This is our gaussian sample\n",
        "for i in range(m):\n",
        "  normal.append(np.random.normal(0,0.5)) # For each i, we take a random number following a gaussian distribution\n",
        "\n",
        "fig, ax=plt.subplots(1,2,figsize=(10,4))\n",
        "ax[0].hist(dist)                         # Plot of our gaussian sampler\n",
        "ax[1].hist(normal)                       # Plot of the Numpy gaussian sampler\n",
        "\n",
        "\n",
        "ax[0].set_xlabel('$x$')                  # The following lines set the legend of the histograms\n",
        "ax[0].set_ylabel('Number of points')                  \n",
        "ax[0].set_title('Our Sample')\n",
        "ax[1].set_xlabel('$x$')\n",
        "ax[1].set_ylabel('Number of points')  \n",
        "ax[1].set_title('Numpy gaussian sample')"
      ],
      "metadata": {
        "id": "_SujVVuyN46u",
        "colab": {
          "base_uri": "https://localhost:8080/",
          "height": 312
        },
        "outputId": "e03300a6-ad52-4e2d-dea2-4621a5f86a5e"
      },
      "execution_count": null,
      "outputs": [
        {
          "output_type": "execute_result",
          "data": {
            "text/plain": [
              "Text(0.5, 1.0, 'Numpy gaussian sample')"
            ]
          },
          "metadata": {},
          "execution_count": 100
        },
        {
          "output_type": "display_data",
          "data": {
            "text/plain": [
              "<Figure size 720x288 with 2 Axes>"
            ],
            "image/png": "[encoded data removed]"
          },
          "metadata": {
            "needs_background": "light"
          }
        }
      ]
    }
  ]
}