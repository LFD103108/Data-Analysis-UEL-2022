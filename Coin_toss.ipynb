{
  "nbformat": 4,
  "nbformat_minor": 0,
  "metadata": {
    "colab": {
      "name": "Coin toss.ipynb",
      "provenance": []
    },
    "kernelspec": {
      "name": "python3",
      "display_name": "Python 3"
    },
    "language_info": {
      "name": "python"
    }
  },
  "cells": [
    {
      "cell_type": "markdown",
      "source": [
        "# Third Assignment\n",
        "\n",
        "* Generate a set of data for a coin toss and analyse the likelihood for different hipotesis. \n"
      ],
      "metadata": {
        "id": "8gzD_X7S6Yy7"
      }
    },
    {
      "cell_type": "code",
      "execution_count": null,
      "metadata": {
        "id": "qiA0OlYqDTmn"
      },
      "outputs": [],
      "source": [
        "import numpy as np \n",
        "import math \n",
        "from matplotlib import pyplot as plt # Importing the libraries"
      ]
    },
    {
      "cell_type": "markdown",
      "source": [
        "We can always generate random numbers with the Numpy distributions. Here, we have an example of a set of 10 random numbers generated using a binomial distribution. \n"
      ],
      "metadata": {
        "id": "96mtNKUf606Q"
      }
    },
    {
      "cell_type": "code",
      "source": [
        "for i in range(10):\n",
        "  y = np.random.binomial(i,0.7) # Binomial distribution\n",
        "  print(y)"
      ],
      "metadata": {
        "colab": {
          "base_uri": "https://localhost:8080/"
        },
        "id": "MrdWPNrDDg34",
        "outputId": "4d54d685-db6e-4ec0-a25b-4a2e78e8416e"
      },
      "execution_count": null,
      "outputs": [
        {
          "output_type": "stream",
          "name": "stdout",
          "text": [
            "0\n",
            "1\n",
            "2\n",
            "3\n",
            "2\n",
            "1\n",
            "3\n",
            "6\n",
            "7\n",
            "8\n"
          ]
        }
      ]
    },
    {
      "cell_type": "markdown",
      "source": [
        "Now, we shall create a random number generator without the direct use of such distributions. First, let's create uniform random number generator. In the cell below, we create the function **samples(n)**, which generates a set of $n$ random numbers between 0 and 1 using the Numpy choices command. \n"
      ],
      "metadata": {
        "id": "F9OilOK07IV7"
      }
    },
    {
      "cell_type": "code",
      "source": [
        "def sample(n):   # Uniform random number generator between 0 and 1              \n",
        "  rand = np.linspace(0,1,1000)\n",
        "  sample = []\n",
        "  for i in range(n):\n",
        "    q = np.random.choice(rand)\n",
        "    sample.append(q)\n",
        "  return sample\n",
        "\n",
        "print(sample(10)) # Example of a sample of 10 random numbers between 0 and 1"
      ],
      "metadata": {
        "colab": {
          "base_uri": "https://localhost:8080/"
        },
        "id": "O4E2miO1iBXJ",
        "outputId": "d162ff72-4874-4d76-b4ae-89818e58dc15"
      },
      "execution_count": null,
      "outputs": [
        {
          "output_type": "stream",
          "name": "stdout",
          "text": [
            "[0.5225225225225225, 0.9189189189189189, 0.9049049049049049, 0.4904904904904905, 0.8148148148148148, 0.5925925925925926, 0.9029029029029029, 0.43343343343343343, 0.39539539539539537, 0.5925925925925926]\n"
          ]
        }
      ]
    },
    {
      "cell_type": "markdown",
      "source": [
        "Now, we define the **coins(s)** function, which simulates **s** tosses of a honest coin, and returns the number of times the coin got a heads up."
      ],
      "metadata": {
        "id": "yttIPoFR8PCZ"
      }
    },
    {
      "cell_type": "code",
      "source": [
        "def coins(s): \n",
        "  heads = 0\n",
        "  poss = [0,1]                  # list of the possibilities 0(heads up) and 1(heads down)\n",
        "  for i in range(s):\n",
        "    y = np.random.choice(poss)\n",
        "    if y == 0:\n",
        "      heads += 1                # This line checks if the coin got a heads up(0) or a heads down (1). If the result is heads, then the counter for heads goes up.\n",
        "  return heads                  # The function returns the number of heads up\n",
        "\n",
        "coins(10)                       # Example of use of the coins function for s=10"
      ],
      "metadata": {
        "id": "1KsJclGKFx1-",
        "colab": {
          "base_uri": "https://localhost:8080/"
        },
        "outputId": "5f2a1bec-2914-490a-ea36-a754aad74014"
      },
      "execution_count": null,
      "outputs": [
        {
          "output_type": "execute_result",
          "data": {
            "text/plain": [
              "6"
            ]
          },
          "metadata": {},
          "execution_count": 95
        }
      ]
    },
    {
      "cell_type": "markdown",
      "source": [
        "Now we will define the **likelihood** function $L(p,N,n)$ for a sample of **N** coin tosses with **n** heads up. In analytical form, it's given by\n",
        "\n",
        "$$ L(p,N,n) = p^{n}(1-p)^{N-n}\\frac{N!}{(N-n)!n!}\\, ,$$\n",
        "\n",
        "where the factor $p^{n}(1-p)^{N-n}$ measures the probability of $n$ heads up, and the factorial term measures the number of different ways in which such $n$ heads up could be sorted. We also\n",
        "calculate the likelihood of 5 heads up in 10 tosses with a 50% probability for heads up in each toss."
      ],
      "metadata": {
        "id": "iTO2YK8r-5VB"
      }
    },
    {
      "cell_type": "code",
      "source": [
        "def likelihood(p,N,n):  # Definition of the likelihood function\n",
        "  L = (p**n)*((1-p)**(N-n))*(math.factorial(N)/(math.factorial(N-n)*math.factorial(n))) # Formula for the likelihood\n",
        "  return L \n",
        "\n",
        "likelihood(0.5,10,5)  # Likelihood of a sample of 5 heads up obtained in 10 coin tosses with a probability p=0.5 of a heads up"
      ],
      "metadata": {
        "id": "yKr-t2Gs3Z5G",
        "colab": {
          "base_uri": "https://localhost:8080/"
        },
        "outputId": "078f5ab2-3a3c-4bcb-9a19-88d7f66181eb"
      },
      "execution_count": null,
      "outputs": [
        {
          "output_type": "execute_result",
          "data": {
            "text/plain": [
              "0.24609375"
            ]
          },
          "metadata": {},
          "execution_count": 96
        }
      ]
    },
    {
      "cell_type": "markdown",
      "source": [
        "Now, let's calculate the likelihood of a sample of $100$ coin tosses in which $20$ went head up. We will now vary the hypothesis: we shall calculate for possible probability values $p$ of a head up, which are in the interval $(0,1)$."
      ],
      "metadata": {
        "id": "-w5M9yiq4VaR"
      }
    },
    {
      "cell_type": "code",
      "source": [
        "prob = np.linspace(0,1,100)   # Probability interval\n",
        "likes = []\n",
        "M = 100\n",
        "m = 20\n",
        "teste = 0\n",
        "\n",
        "for i in range(np.size(prob)): # Here we calculate the likelihood for each value of p in the linspace\n",
        "  l = likelihood(prob[i],M,m)\n",
        "  likes.append(l)"
      ],
      "metadata": {
        "id": "c4LBeIGjHlSF"
      },
      "execution_count": null,
      "outputs": []
    },
    {
      "cell_type": "markdown",
      "source": [
        "Now let's plot the calculated values for the likelihood. Note that, since we chose a sample of $20$ heads up in $100$ coin tosses, the likelihood has a maximum for the probability $0.2 = 20/100$:\n"
      ],
      "metadata": {
        "id": "gwMKwcaX5jDD"
      }
    },
    {
      "cell_type": "code",
      "source": [
        "plt.plot(prob,likes) "
      ],
      "metadata": {
        "colab": {
          "base_uri": "https://localhost:8080/",
          "height": 282
        },
        "id": "myft3eeV5By6",
        "outputId": "0453f355-8636-435b-812a-42891c741a03"
      },
      "execution_count": null,
      "outputs": [
        {
          "output_type": "execute_result",
          "data": {
            "text/plain": [
              "[<matplotlib.lines.Line2D at 0x7fa3227a9350>]"
            ]
          },
          "metadata": {},
          "execution_count": 98
        },
        {
          "output_type": "display_data",
          "data": {
            "text/plain": [
              "<Figure size 432x288 with 1 Axes>"
            ],
            "image/png": "[encoded data removed]"
          },
          "metadata": {
            "needs_background": "light"
          }
        }
      ]
    },
    {
      "cell_type": "markdown",
      "source": [
        "Let's do the same for a sample of $100$ tosses with $50$ heads up. In this case, since the sample has $50$ heads up in 100 tosses, the likelihood has a maximum for the probability $0.5 = 50/100$."
      ],
      "metadata": {
        "id": "gUIm-tXw5Ylb"
      }
    },
    {
      "cell_type": "code",
      "source": [
        "lik = []\n",
        "M2 = 100\n",
        "m2 = 50\n",
        "teste = 0\n",
        "\n",
        "for i in range(np.size(prob)):\n",
        "  ll = likelihood(prob[i],M2,m2)\n",
        "  lik.append(ll)\n",
        "\n",
        "plt.plot(prob,lik) "
      ],
      "metadata": {
        "colab": {
          "base_uri": "https://localhost:8080/",
          "height": 282
        },
        "id": "B8vHqQhbhOfd",
        "outputId": "7b9f6cd2-6357-466f-98f8-372f8b0cf974"
      },
      "execution_count": null,
      "outputs": [
        {
          "output_type": "execute_result",
          "data": {
            "text/plain": [
              "[<matplotlib.lines.Line2D at 0x7fa3226c3150>]"
            ]
          },
          "metadata": {},
          "execution_count": 101
        },
        {
          "output_type": "display_data",
          "data": {
            "text/plain": [
              "<Figure size 432x288 with 1 Axes>"
            ],
            "image/png": "[encoded data removed]"
          },
          "metadata": {
            "needs_background": "light"
          }
        }
      ]
    },
    {
      "cell_type": "markdown",
      "source": [
        "The likelihood can also be analyzed by a histogram, which is ploted below. Note that there is a peak on the vicinity of $L = 0$. This happens because the likelihood  is very small for values that are different from $0.5$, which is the \"correct\" value for the honest coin. "
      ],
      "metadata": {
        "id": "81iFx1u552Pq"
      }
    },
    {
      "cell_type": "code",
      "source": [
        "plt.hist(lik,10)   "
      ],
      "metadata": {
        "colab": {
          "base_uri": "https://localhost:8080/",
          "height": 352
        },
        "id": "ZCSKDA6-NyMq",
        "outputId": "3304f22a-e7aa-42e2-9e15-2871dcf8d937"
      },
      "execution_count": null,
      "outputs": [
        {
          "output_type": "execute_result",
          "data": {
            "text/plain": [
              "(array([78.,  4.,  2.,  2.,  2.,  2.,  2.,  2.,  2.,  4.]),\n",
              " array([0.        , 0.00791842, 0.01583684, 0.02375527, 0.03167369,\n",
              "        0.03959211, 0.04751053, 0.05542896, 0.06334738, 0.0712658 ,\n",
              "        0.07918422]),\n",
              " <a list of 10 Patch objects>)"
            ]
          },
          "metadata": {},
          "execution_count": 107
        },
        {
          "output_type": "display_data",
          "data": {
            "text/plain": [
              "<Figure size 432x288 with 1 Axes>"
            ],
            "image/png": "[encoded data removed]"
          },
          "metadata": {
            "needs_background": "light"
          }
        }
      ]
    }
  ]
}